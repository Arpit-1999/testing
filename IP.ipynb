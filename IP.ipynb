{
 "cells": [
  {
   "cell_type": "code",
   "execution_count": 11,
   "metadata": {},
   "outputs": [
    {
     "name": "stdout",
     "output_type": "stream",
     "text": [
      "The IP address of en0 interface is: 172.20.10.6\n"
     ]
    }
   ],
   "source": [
    "import socket\n",
    "import subprocess\n",
    "\n",
    "def get_ip_address(interface):\n",
    "    try:\n",
    "        ip_address = subprocess.check_output(['ipconfig', 'getifaddr', interface]).decode().strip()\n",
    "        return ip_address\n",
    "    except subprocess.CalledProcessError:\n",
    "        return None\n",
    "\n",
    "# Get the IP address associated with the en0 interface\n",
    "interface = 'en0'\n",
    "ip_address = get_ip_address(interface)\n",
    "\n",
    "if ip_address:\n",
    "    print(f\"The IP address of {interface} interface is: {ip_address}\")\n",
    "else:\n",
    "    print(f\"Failed to retrieve the IP address of {interface} interface.\")\n"
   ]
  }
 ],
 "metadata": {
  "kernelspec": {
   "display_name": "Python 3",
   "language": "python",
   "name": "python3"
  },
  "language_info": {
   "codemirror_mode": {
    "name": "ipython",
    "version": 3
   },
   "file_extension": ".py",
   "mimetype": "text/x-python",
   "name": "python",
   "nbconvert_exporter": "python",
   "pygments_lexer": "ipython3",
   "version": "3.12.3"
  }
 },
 "nbformat": 4,
 "nbformat_minor": 2
}
