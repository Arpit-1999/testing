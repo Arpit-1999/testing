{
 "cells": [
  {
   "cell_type": "code",
   "execution_count": 2,
   "metadata": {},
   "outputs": [
    {
     "name": "stdout",
     "output_type": "stream",
     "text": [
      "Invalid frame data received.\n",
      "Error receiving data: [Errno 22] Invalid argument\n",
      "An unexpected error occurred: [Errno 22] Invalid argument\n"
     ]
    }
   ],
   "source": [
    "import socket\n",
    "import cv2\n",
    "import numpy as np\n",
    "\n",
    "def setup_client(ip, port):\n",
    "    try:\n",
    "        client_socket = socket.socket(socket.AF_INET, socket.SOCK_STREAM)\n",
    "        client_socket.connect((ip, port))\n",
    "        return client_socket\n",
    "    except Exception as e:\n",
    "        print(f\"Error setting up client: {e}\")\n",
    "        raise\n",
    "\n",
    "def send_control_message(client_socket, enable_camera=True, enable_audio=False):\n",
    "    try:\n",
    "        control_message = f\"{enable_camera},{enable_audio}\"\n",
    "        client_socket.sendall(control_message.encode())\n",
    "    except Exception as e:\n",
    "        print(f\"Error sending control message: {e}\")\n",
    "        raise\n",
    "\n",
    "def receive_data(client_socket, enable_camera):\n",
    "    try:\n",
    "        while True:\n",
    "            frame_len_bytes = client_socket.recv(4)\n",
    "            if not frame_len_bytes:\n",
    "                print(\"Error: Failed to receive frame length bytes\")\n",
    "                break\n",
    "\n",
    "            frame_len = int.from_bytes(frame_len_bytes, byteorder='big')\n",
    "\n",
    "            data = b''\n",
    "            while len(data) < frame_len:\n",
    "                packet = client_socket.recv(frame_len - len(data))\n",
    "                if not packet:\n",
    "                    print(\"Error: Incomplete frame data received\")\n",
    "                    break\n",
    "                data += packet\n",
    "\n",
    "            if enable_camera:\n",
    "                if frame_len > 0:\n",
    "                    frame = np.frombuffer(data, dtype=np.uint8)\n",
    "                    frame = cv2.imdecode(frame, cv2.IMREAD_COLOR)\n",
    "                    if frame is not None and frame.size > 0:\n",
    "                        cv2.imshow('frame', frame)\n",
    "                    else:\n",
    "                        print(\"Invalid frame data received.\")\n",
    "                else:\n",
    "                    print(\"Invalid frame length received.\")\n",
    "\n",
    "            if cv2.waitKey(1) & 0xFF == ord('q'):\n",
    "                break\n",
    "    except Exception as e:\n",
    "        print(f\"Error receiving data: {e}\")\n",
    "        raise\n",
    "    finally:\n",
    "        client_socket.close()\n",
    "        cv2.destroyAllWindows()\n",
    "\n",
    "def main():\n",
    "    ip = '172.20.10.6'\n",
    "    port = 8000\n",
    "    try:\n",
    "        client_socket = setup_client(ip, port)\n",
    "        send_control_message(client_socket)\n",
    "        receive_data(client_socket, enable_camera=True)\n",
    "    except KeyboardInterrupt:\n",
    "        print(\"Keyboard interrupt detected. Exiting...\")\n",
    "    except Exception as e:\n",
    "        print(f\"An unexpected error occurred: {e}\")\n",
    "\n",
    "if __name__ == \"__main__\":\n",
    "    main()\n"
   ]
  }
 ],
 "metadata": {
  "kernelspec": {
   "display_name": "Python 3",
   "language": "python",
   "name": "python3"
  },
  "language_info": {
   "codemirror_mode": {
    "name": "ipython",
    "version": 3
   },
   "file_extension": ".py",
   "mimetype": "text/x-python",
   "name": "python",
   "nbconvert_exporter": "python",
   "pygments_lexer": "ipython3",
   "version": "3.12.3"
  }
 },
 "nbformat": 4,
 "nbformat_minor": 2
}
